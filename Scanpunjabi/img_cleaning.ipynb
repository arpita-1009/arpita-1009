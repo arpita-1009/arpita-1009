{
 "cells": [
  {
   "cell_type": "code",
   "execution_count": 3,
   "metadata": {},
   "outputs": [
    {
     "data": {
      "text/plain": [
       "True"
      ]
     },
     "execution_count": 3,
     "metadata": {},
     "output_type": "execute_result"
    }
   ],
   "source": [
    "import cv2\n",
    "import numpy as np\n",
    "img = cv2.imread(r\"/Users/rushangipatel/Documents/GitHub/Scanpunjabi/Punjabidata/1-32.tif\", cv2.IMREAD_GRAYSCALE)\n",
    "img = cv2.multiply(img, 1.2)\n",
    "kernel = np.ones((1, 1), np.uint8)\n",
    "img = cv2.erode(img, kernel, iterations=1)\n",
    "cv2.imwrite(\"example1-processed.png\", img)"
   ]
  },
  {
   "cell_type": "code",
   "execution_count": 4,
   "metadata": {},
   "outputs": [
    {
     "data": {
      "text/plain": [
       "True"
      ]
     },
     "execution_count": 4,
     "metadata": {},
     "output_type": "execute_result"
    }
   ],
   "source": [
    "adt = cv2.medianBlur(img, 7)\n",
    "adt = cv2.adaptiveThreshold(\n",
    "        adt, 255,\n",
    "        cv2.ADAPTIVE_THRESH_GAUSSIAN_C,\n",
    "        cv2.THRESH_BINARY, 3, 2\n",
    ")\n",
    "cv2.imwrite(\"example1-processed2.png\", img)"
   ]
  },
  {
   "cell_type": "code",
   "execution_count": 5,
   "metadata": {},
   "outputs": [
    {
     "data": {
      "text/plain": [
       "True"
      ]
     },
     "execution_count": 5,
     "metadata": {},
     "output_type": "execute_result"
    }
   ],
   "source": [
    "ato = cv2.GaussianBlur(img, (1, 1), 0)\n",
    "ret, gato = cv2.threshold(ato, 0, 255, cv2.THRESH_BINARY +\n",
    "                          cv2.THRESH_OTSU)\n",
    "img2, contours, hierarchy = cv2.findContours(img, cv2.RETR_TREE,\n",
    "                                             cv2.CHAIN_APPROX_SIMPLE)\n",
    "# cv2.imwrite(\"example1-processed3.png\", img)\n",
    "\n",
    "# find largest contour\n",
    "contour_areas = list(map(cv2.contourArea, contours))\n",
    "largest_contour_idx = contour_areas.index(max(contour_areas))\n",
    "largest_contour = contours[largest_contour_idx]\n",
    "cv2.imwrite(\"example1-processed4.png\", img)\n"
   ]
  },
  {
   "cell_type": "code",
   "execution_count": 6,
   "metadata": {},
   "outputs": [
    {
     "data": {
      "text/plain": [
       "True"
      ]
     },
     "execution_count": 6,
     "metadata": {},
     "output_type": "execute_result"
    }
   ],
   "source": [
    "neg = 255 - img \n",
    "angle_counter = 0 \n",
    "angle = 0.0 \n",
    "for line in cv2.HoughLinesP(neg, 1, np.pi/180, 325):\n",
    "    x1, y1, x2, y2 = line[0]\n",
    "    this_angle = np.arctan2(y2 - y1, x2 - x1)\n",
    "    if this_angle and abs(this_angle) <= 10:\n",
    "        angle += this_angle\n",
    "        angle_counter += 1\n",
    "skew = np.rad2deg(angle / angle_counter)\n",
    "rows, cols = img.shape\n",
    "rot_mat = cv2.getRotationMatrix2D((cols/2, rows/2), angle, 1.0)\n",
    "result = cv2.warpAffine(img,\n",
    "                        rot_mat,\n",
    "                        (cols, rows),\n",
    "                        flags=cv2.INTER_CUBIC,\n",
    "                        borderMode=cv2.BORDER_CONSTANT,\n",
    "                        borderValue=(255, 255, 255))\n",
    "cv2.imwrite(\"example1-processed6.png\", img)\n"
   ]
  },
  {
   "cell_type": "code",
   "execution_count": null,
   "metadata": {},
   "outputs": [],
   "source": [
    "import tesserocr\n"
   ]
  }
 ],
 "metadata": {
  "kernelspec": {
   "display_name": "Python 3",
   "language": "python",
   "name": "python3"
  },
  "language_info": {
   "codemirror_mode": {
    "name": "ipython",
    "version": 3
   },
   "file_extension": ".py",
   "mimetype": "text/x-python",
   "name": "python",
   "nbconvert_exporter": "python",
   "pygments_lexer": "ipython3",
   "version": "3.7.9"
  },
  "orig_nbformat": 4
 },
 "nbformat": 4,
 "nbformat_minor": 2
}
