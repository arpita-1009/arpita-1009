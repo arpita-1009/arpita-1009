{
 "cells": [
  {
   "cell_type": "code",
   "execution_count": null,
   "metadata": {},
   "outputs": [],
   "source": [
    "import tensorflow as tf\n",
    "from tensorflow import keras\n",
    "from tensorflow.keras import layers\n",
    "from PIL import Image\n",
    "import os,tesserocr\n",
    "from tesserocr import image_to_text\n",
    "# from pathlib import Path\n",
    " "
   ]
  },
  {
   "cell_type": "code",
   "execution_count": null,
   "metadata": {},
   "outputs": [],
   "source": [
    "folder = r'/Users/rushangipatel/Documents/GitHub/General/Scanpunjabi/Lawyernotice/Divyabhaskar/Ahmedabad'\n",
    "for filename in os.listdir(folder):\n",
    "    if filename.endswith('.jpg'):\n",
    "        path=folder+\"/\"+filename\n",
    "        Img = Image.open(path).convert(\"RGB\")    \n",
    "        text_0 = tesserocr.image_to_text2(Img,lang ='guj',config=\"--psm 6\")\n",
    "        with open(\"text.txt\",\"a+\") as file:\n",
    "            file.write(text_0)\n",
    "        \n",
    "        \n",
    "    "
   ]
  },
  {
   "cell_type": "code",
   "execution_count": null,
   "metadata": {},
   "outputs": [],
   "source": []
  },
  {
   "cell_type": "code",
   "execution_count": null,
   "metadata": {},
   "outputs": [],
   "source": []
  }
 ],
 "metadata": {
  "kernelspec": {
   "display_name": "Python 3",
   "language": "python",
   "name": "python3"
  },
  "language_info": {
   "codemirror_mode": {
    "name": "ipython",
    "version": 3
   },
   "file_extension": ".py",
   "mimetype": "text/x-python",
   "name": "python",
   "nbconvert_exporter": "python",
   "pygments_lexer": "ipython3",
   "version": "3.7.9"
  },
  "orig_nbformat": 4
 },
 "nbformat": 4,
 "nbformat_minor": 2
}
